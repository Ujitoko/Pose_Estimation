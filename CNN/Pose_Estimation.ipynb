{
 "cells": [
  {
   "cell_type": "markdown",
   "metadata": {},
   "source": [
    "Pose Estimation"
   ]
  },
  {
   "cell_type": "code",
   "execution_count": null,
   "metadata": {
    "collapsed": true
   },
   "outputs": [],
   "source": [
    "import tensorflow as tf\n",
    "import os\n",
    "from PIL import Image\n",
    "import numpy as np\n",
    "import matplotlib.pyplot as plt"
   ]
  },
  {
   "cell_type": "code",
   "execution_count": null,
   "metadata": {
    "collapsed": true
   },
   "outputs": [],
   "source": [
    "class Pose_Estimation_Net:\n",
    "    def __init__(self):\n",
    "        self.epochs = 100000\n",
    "        self.epoch_saveMetrics = 500\n",
    "        #self.epoch_saveSampleImg = 500\n",
    "        self.epoch_saveParameter = 1000\n",
    "        \n",
    "        self.X_tr = tf.placeholder(tf.float32, shape=[None, 240, 240])\n",
    "        self.Y_tr = tf.placeholder(tf.float32, shape=[None, 22, 3])\n",
    "\n",
    "        self.batch_size = 32\n",
    "        img_size = 240*240 # orginal size:640*480\n",
    "\n",
    "        self.L = self.loss()\n",
    "\n",
    "        # model architecture\n",
    "    def output(self):\n",
    "        with tf.variable_scope(\"Pose_Estimation_Net\"):\n",
    "            # x:[240*240*1]\n",
    "            conv1 = tf.layers.conv2d(x, 3, [4,4], [2,2], padding=\"SAME\", kernel_initializer=tf.truncated_normal_initializer(0.0, 0.02)) # 120x120x3\n",
    "            conv1 = tf.layers.batch_normalization(conv1)\n",
    "            conv1 = leaky_relu(conv1)\n",
    "\n",
    "            conv2 = tf.layers.conv2d(conv1, 6, [4,4], [2,2], padding=\"SAME\", kernel_initializer=tf.truncated_normal_initializer(0.0, 0.02)) # 60x60x6\n",
    "            conv2 = tf.layers.batch_normalization(conv2)\n",
    "            conv2 = leaky_relu(conv2)\n",
    "\n",
    "            conv3 = tf.layers.conv2d(conv2, 12, [4,4], [2,2], padding=\"SAME\", kernel_initializer=tf.truncated_normal_initializer(0.0, 0.02)) # 30x30x12\n",
    "            conv3 = tf.layers.batch_normalization(conv3)\n",
    "            conv3 = leaky_relu(conv3)\n",
    "            \n",
    "            conv4 = tf.layers.conv2d(conv3, 24, [4,4], [2,2], padding=\"SAME\", kernel_initializer=tf.truncated_normal_initializer(0.0, 0.02)) # 15x15x24\n",
    "            conv4 = tf.layers.batch_normalization(conv4)\n",
    "            conv4 = leaky_relu(conv4)\n",
    "\n",
    "            fc1 = tf.reshape(conv4, [-1, 15*15*24])\n",
    "            fc1 = tf.layers.dense(fc1, 1024, kernel_initializer=tf.truncated_normal_initializer(0.0, 0.02)) # noise\n",
    "            fc1 = tf.layers.batch_normalization(fc1)\n",
    "            fc1 = tf.nn.relu(fc1)\n",
    "\n",
    "            fc2 = tf.layers.dense(fc1, 2048, kernel_initializer=tf.truncated_normal_initializer(0.0, 0.02)) # noise\n",
    "            fc2 = tf.layers.batch_normalization(fc2)\n",
    "            fc2 = tf.nn.relu(fc2)\n",
    "\n",
    "            fc3 = tf.layers.dense(fc2, 3*22, kernel_initializer=tf.truncated_normal_initializer(0.0, 0.02))\n",
    "\n",
    "            y = tf.reshape(fc3, [-1, 3*22])\n",
    "        return y\n",
    "    def loss(self):\n",
    "        output = self.output(self.X_tr)\n",
    "        L = self.Y_tr - output\n",
    "        L = tf.square(L)\n",
    "        L = tf.reduce_mean(L)\n",
    "        return L\n",
    "        \n",
    "    def train(self):\n",
    "        opt = tf.train.AdamOptimizer()\n",
    "        train_op = opt.minimize(self.L)\n",
    "\n",
    "        saver = tf.train.Saver()\n",
    "        \n",
    "        with tf.Session() as sess:\n",
    "\n",
    "            for epoch in range(self.epochs):\n",
    "                # 訓練データを抜粋\n",
    "                \n",
    "\n",
    "\n",
    "\n"
   ]
  },
  {
   "cell_type": "code",
   "execution_count": null,
   "metadata": {
    "collapsed": true
   },
   "outputs": [],
   "source": [
    "model = Pose_Estimation_Net()\n",
    "model.train()"
   ]
  }
 ],
 "metadata": {
  "kernelspec": {
   "display_name": "Python 3",
   "language": "python",
   "name": "python3"
  },
  "language_info": {
   "codemirror_mode": {
    "name": "ipython",
    "version": 3
   },
   "file_extension": ".py",
   "mimetype": "text/x-python",
   "name": "python",
   "nbconvert_exporter": "python",
   "pygments_lexer": "ipython3",
   "version": "3.6.0"
  }
 },
 "nbformat": 4,
 "nbformat_minor": 2
}
