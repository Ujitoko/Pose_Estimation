{
 "cells": [
  {
   "cell_type": "markdown",
   "metadata": {},
   "source": [
    "### Pose Estimation"
   ]
  },
  {
   "cell_type": "markdown",
   "metadata": {},
   "source": [
    "この姿勢推定プログラムを書いているのは常磐線の中である．  \n",
    "戸塚→勝田移動の残業代の出ないのに拘束される時間を使っている．"
   ]
  },
  {
   "cell_type": "code",
   "execution_count": 8,
   "metadata": {},
   "outputs": [
    {
     "name": "stdout",
     "output_type": "stream",
     "text": [
      "(480, 640)\n"
     ]
    },
    {
     "data": {
      "image/png": "[encoded data removed]",
      "text/plain": [
       "<matplotlib.figure.Figure at 0x10e579208>"
      ]
     },
     "metadata": {},
     "output_type": "display_data"
    }
   ],
   "source": [
    "from PIL import Image\n",
    "import numpy as np\n",
    "import matplotlib.pyplot as plt\n",
    "%matplotlib inline\n",
    "\n",
    "img_src_path = \"depth32/0_gen_dep_20160712194620972.png\"\n",
    "depth_img = Image.open(img_src_path) \n",
    "\n",
    "# 画像表示\n",
    "img_np = np.array(depth_img)\n",
    "plt.imshow(img_np, cmap=\"gray\")\n",
    "\n",
    "# 画像サイズ\n",
    "print(img_np.shape)\n"
   ]
  },
  {
   "cell_type": "code",
   "execution_count": null,
   "metadata": {
    "collapsed": true
   },
   "outputs": [],
   "source": [
    "# convert imgs into .npy files\n",
    "def ConvertIntoNpy(src, dst):\n",
    "    files = os.listdir(src)\n",
    "    first_img = Image.open(src + \"/\" + files[0])\n",
    "    first_img_np = np.array(first_img)\n",
    "    file_list = np.copy(first_img_np)\n",
    "    file_list = file_list[np.newaxis, :]\n",
    "    \n",
    "    print(\"num of files: \" + str(len(files)))\n",
    "    print(\"img size       : \" + str(first_img_np.shape))\n",
    "    \n",
    "    for i in range(len(files)):\n",
    "        if i % 100 == 1:\n",
    "            print(i)\n",
    "            \n",
    "        img = Image.open(src + \"/\" + files[i])\n",
    "        img_np = np.array(img)\n",
    "\n",
    "        # 念のため画像サイズチェック\n",
    "        if img_np.shape != first_img_np.shape:\n",
    "            continue\n",
    "            \n",
    "        img_np = img_np[np.newaxis, :]\n",
    "        file_list = np.vstack((file_list, img_np))\n",
    "        img.close()\n",
    "        \n",
    "    np.save(dst, fileList)"
   ]
  },
  {
   "cell_type": "code",
   "execution_count": null,
   "metadata": {
    "collapsed": true
   },
   "outputs": [],
   "source": [
    "import tensorflow as tf\n",
    "import os\n",
    "from PIL import Image\n",
    "import numpy as np\n",
    "import matplotlib.pyplot as plt"
   ]
  },
  {
   "cell_type": "code",
   "execution_count": null,
   "metadata": {
    "collapsed": true
   },
   "outputs": [],
   "source": [
    "class Pose_Estimation_Net:\n",
    "    def __init__(self):\n",
    "        self.epochs = 100000\n",
    "        self.epoch_saveMetrics = 500\n",
    "        #self.epoch_saveSampleImg = 500\n",
    "        self.epoch_saveParameter = 1000\n",
    "        \n",
    "        self.X_tr = tf.placeholder(tf.float32, shape=[None, 240, 240])\n",
    "        self.Y_tr = tf.placeholder(tf.float32, shape=[None, 22, 3])\n",
    "\n",
    "        self.batch_size = 32\n",
    "        img_size = 240*240 # orginal size:640*480\n",
    "\n",
    "        self.L = self.loss()\n",
    "        self.losses = {\"loss\":[]}\n",
    "\n",
    "        # model architecture\n",
    "    def output(self):\n",
    "        with tf.variable_scope(\"Pose_Estimation_Net\"):\n",
    "            # x:[240*240*1]\n",
    "            conv1 = tf.layers.conv2d(x, 3, [4,4], [2,2], padding=\"SAME\", kernel_initializer=tf.truncated_normal_initializer(0.0, 0.02)) # 120x120x3\n",
    "            conv1 = tf.layers.batch_normalization(conv1)\n",
    "            conv1 = leaky_relu(conv1)\n",
    "\n",
    "            conv2 = tf.layers.conv2d(conv1, 6, [4,4], [2,2], padding=\"SAME\", kernel_initializer=tf.truncated_normal_initializer(0.0, 0.02)) # 60x60x6\n",
    "            conv2 = tf.layers.batch_normalization(conv2)\n",
    "            conv2 = leaky_relu(conv2)\n",
    "\n",
    "            conv3 = tf.layers.conv2d(conv2, 12, [4,4], [2,2], padding=\"SAME\", kernel_initializer=tf.truncated_normal_initializer(0.0, 0.02)) # 30x30x12\n",
    "            conv3 = tf.layers.batch_normalization(conv3)\n",
    "            conv3 = leaky_relu(conv3)\n",
    "            \n",
    "            conv4 = tf.layers.conv2d(conv3, 24, [4,4], [2,2], padding=\"SAME\", kernel_initializer=tf.truncated_normal_initializer(0.0, 0.02)) # 15x15x24\n",
    "            conv4 = tf.layers.batch_normalization(conv4)\n",
    "            conv4 = leaky_relu(conv4)\n",
    "\n",
    "            fc1 = tf.reshape(conv4, [-1, 15*15*24])\n",
    "            fc1 = tf.layers.dense(fc1, 1024, kernel_initializer=tf.truncated_normal_initializer(0.0, 0.02)) # noise\n",
    "            fc1 = tf.layers.batch_normalization(fc1)\n",
    "            fc1 = tf.nn.relu(fc1)\n",
    "\n",
    "            fc2 = tf.layers.dense(fc1, 2048, kernel_initializer=tf.truncated_normal_initializer(0.0, 0.02)) # noise\n",
    "            fc2 = tf.layers.batch_normalization(fc2)\n",
    "            fc2 = tf.nn.relu(fc2)\n",
    "\n",
    "            fc3 = tf.layers.dense(fc2, 3*22, kernel_initializer=tf.truncated_normal_initializer(0.0, 0.02))\n",
    "\n",
    "            y = tf.reshape(fc3, [-1, 3*22])\n",
    "        return y\n",
    "    def loss(self):\n",
    "        output = self.output(self.X_tr)\n",
    "        L = self.Y_tr - output\n",
    "        L = tf.square(L)\n",
    "        L = tf.reduce_mean(L)\n",
    "        return L\n",
    "        \n",
    "    def train(self):\n",
    "        opt = tf.train.AdamOptimizer()\n",
    "        train_op = opt.minimize(self.L)\n",
    "\n",
    "        saver = tf.train.Saver()\n",
    "        \n",
    "        with tf.Session() as sess:\n",
    "\n",
    "            for epoch in range(self.epochs):\n",
    "                # 訓練データを抜粋\n",
    "                # X_mb\n",
    "                \n",
    "                def extractImg(img_path, label_path):\n",
    "                    files_img = os.listdir(img_path)\n",
    "                    rand_index = np.random.randint(0, len(files_img), size=self.batch_size)\n",
    "                    # files_img[rand_index]\n",
    "                    \n",
    "                    \n",
    "                    \n",
    "                    files_label[rand_index]\n",
    "                    \n",
    "                    \n",
    "                    \n",
    "                X_mb_src_path = \"./depth32\"\n",
    "                extractImg(X_mb_src_path)\n",
    "                # Y_mb\n",
    "                \n",
    "                # 正規化\n",
    "                _, loss_value = sess.run([train_op, self.L], feed_dict={self.X_tr: X_mb, self.Y_tr: Y_mb})\n",
    "\n",
    "                self.losses[\"loss\"].append(loss_value)\n",
    "                \n",
    "                # lossの可視化\n",
    "                if epoch % self.epoch_saveMetrics == 1:\n",
    "                    save_metrics(self.losses, epoch)\n",
    "\n",
    "                # parameterのsave\n",
    "                if epoch % self.epoch_saveParamter == 1:\n",
    "                    path = \"model_DC\"\n",
    "                    if not os.path.isdir(path):\n",
    "                        os.makedirs(path)\n",
    "\n",
    "                    saver.save(sess, path+\"/dcgan_model\" + str(epoch+epoch_pre) + \".ckpt\")"
   ]
  },
  {
   "cell_type": "code",
   "execution_count": null,
   "metadata": {
    "collapsed": true
   },
   "outputs": [],
   "source": [
    "model = Pose_Estimation_Net()\n",
    "model.train()"
   ]
  }
 ],
 "metadata": {
  "anaconda-cloud": {},
  "kernelspec": {
   "display_name": "Python [default]",
   "language": "python",
   "name": "python3"
  },
  "language_info": {
   "codemirror_mode": {
    "name": "ipython",
    "version": 3
   },
   "file_extension": ".py",
   "mimetype": "text/x-python",
   "name": "python",
   "nbconvert_exporter": "python",
   "pygments_lexer": "ipython3",
   "version": "3.5.2"
  }
 },
 "nbformat": 4,
 "nbformat_minor": 2
}
